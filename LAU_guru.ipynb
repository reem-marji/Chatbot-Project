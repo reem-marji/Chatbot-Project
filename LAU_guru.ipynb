{
 "cells": [
  {
   "cell_type": "code",
   "execution_count": 1,
   "metadata": {},
   "outputs": [
    {
     "ename": "TypeError",
     "evalue": "__init__() got an unexpected keyword argument 'executable_path'",
     "output_type": "error",
     "traceback": [
      "\u001b[1;31m---------------------------------------------------------------------------\u001b[0m",
      "\u001b[1;31mTypeError\u001b[0m                                 Traceback (most recent call last)",
      "\u001b[1;32mc:\\Workspace\\CME_Internship\\git_llm\\LAU_guru.ipynb Cell 1\u001b[0m in \u001b[0;36m<cell line: 4>\u001b[1;34m()\u001b[0m\n\u001b[0;32m      <a href='vscode-notebook-cell:/c%3A/Workspace/CME_Internship/git_llm/LAU_guru.ipynb#W0sZmlsZQ%3D%3D?line=0'>1</a>\u001b[0m \u001b[39mfrom\u001b[39;00m \u001b[39mselenium\u001b[39;00m \u001b[39mimport\u001b[39;00m webdriver\n\u001b[0;32m      <a href='vscode-notebook-cell:/c%3A/Workspace/CME_Internship/git_llm/LAU_guru.ipynb#W0sZmlsZQ%3D%3D?line=2'>3</a>\u001b[0m driver_path \u001b[39m=\u001b[39m \u001b[39m'\u001b[39m\u001b[39mC:\u001b[39m\u001b[39m\\\u001b[39m\u001b[39mProgram Files\u001b[39m\u001b[39m\\\u001b[39m\u001b[39mGoogle\u001b[39m\u001b[39m\\\u001b[39m\u001b[39mChrome\u001b[39m\u001b[39m\\\u001b[39m\u001b[39mApplication\u001b[39m\u001b[39m\\\u001b[39m\u001b[39mchrome.exe\u001b[39m\u001b[39m'\u001b[39m\n\u001b[1;32m----> <a href='vscode-notebook-cell:/c%3A/Workspace/CME_Internship/git_llm/LAU_guru.ipynb#W0sZmlsZQ%3D%3D?line=3'>4</a>\u001b[0m driver \u001b[39m=\u001b[39m webdriver\u001b[39m.\u001b[39;49mChrome(executable_path\u001b[39m=\u001b[39;49mdriver_path)\n",
      "\u001b[1;31mTypeError\u001b[0m: __init__() got an unexpected keyword argument 'executable_path'"
     ]
    }
   ],
   "source": [
    "from selenium import webdriver\n",
    "\n",
    "driver_path = 'C:\\Program Files\\Google\\Chrome\\Application\\chrome.exe'\n",
    "driver = webdriver.Chrome(executable_path=driver_path)"
   ]
  },
  {
   "cell_type": "code",
   "execution_count": null,
   "metadata": {},
   "outputs": [],
   "source": [
    "group_url = 'https://www.facebook.com/groups/1663208173945409/'\n",
    "driver.get(group_url)"
   ]
  },
  {
   "cell_type": "code",
   "execution_count": null,
   "metadata": {},
   "outputs": [],
   "source": [
    "email_input = driver.find_element_by_id('email')\n",
    "email_input.send_keys('your_email@example.com')\n",
    "\n",
    "password_input = driver.find_element_by_id('pass')\n",
    "password_input.send_keys('your_password')\n",
    "\n",
    "login_button = driver.find_element_by_name('login')\n",
    "login_button.click()\n"
   ]
  },
  {
   "cell_type": "code",
   "execution_count": null,
   "metadata": {},
   "outputs": [],
   "source": [
    "import time\n",
    "time.sleep(5)\n",
    "\n",
    "post_elements = driver.find_elements_by_css_selector('[data-pagelet^=\"GroupInlineStory\"]')\n",
    "\n",
    "for post_element in post_elements:\n",
    "    post_content = post_element.text\n",
    "    print('Prompt:', post_content)\n",
    "\n",
    "    # Extract the comments for each post\n",
    "    comments = post_element.find_elements_by_css_selector('[data-testid^=\"UFI2Comment/body\"]')\n",
    "\n",
    "    for comment in comments:\n",
    "        comment_content = comment.text\n",
    "        print('Completion:', comment_content)\n"
   ]
  },
  {
   "cell_type": "code",
   "execution_count": null,
   "metadata": {},
   "outputs": [],
   "source": [
    "driver.quit()"
   ]
  }
 ],
 "metadata": {
  "kernelspec": {
   "display_name": "cme_project",
   "language": "python",
   "name": "python3"
  },
  "language_info": {
   "codemirror_mode": {
    "name": "ipython",
    "version": 3
   },
   "file_extension": ".py",
   "mimetype": "text/x-python",
   "name": "python",
   "nbconvert_exporter": "python",
   "pygments_lexer": "ipython3",
   "version": "3.8.16"
  },
  "orig_nbformat": 4
 },
 "nbformat": 4,
 "nbformat_minor": 2
}
