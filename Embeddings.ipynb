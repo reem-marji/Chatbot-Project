{
 "cells": [
  {
   "cell_type": "code",
   "execution_count": 55,
   "metadata": {},
   "outputs": [
    {
     "name": "stderr",
     "output_type": "stream",
     "text": [
      "[nltk_data] Downloading package averaged_perceptron_tagger to\n",
      "[nltk_data]     C:\\Users\\user\\AppData\\Roaming\\nltk_data...\n",
      "[nltk_data]   Package averaged_perceptron_tagger is already up-to-\n",
      "[nltk_data]       date!\n"
     ]
    },
    {
     "data": {
      "text/plain": [
       "True"
      ]
     },
     "execution_count": 55,
     "metadata": {},
     "output_type": "execute_result"
    }
   ],
   "source": [
    "from model_handler import OPENAI_API_KEY\n",
    "\n",
    "import json\n",
    "from langchain.embeddings.openai import OpenAIEmbeddings\n",
    "from langchain.vectorstores import FAISS\n",
    "from langchain.text_splitter import RecursiveCharacterTextSplitter\n",
    "from langchain import OpenAI\n",
    "from langchain.chains import RetrievalQA\n",
    "from langchain.document_loaders import DirectoryLoader\n",
    "import nltk\n",
    "\n",
    "nltk.download('averaged_perceptron_tagger')"
   ]
  },
  {
   "cell_type": "code",
   "execution_count": 70,
   "metadata": {},
   "outputs": [],
   "source": [
    "loader = DirectoryLoader('./texts/', glob='**/*.txt')\n",
    "documents = loader.load()\n",
    "text_splitter = RecursiveCharacterTextSplitter(chunk_size=1000, chunk_overlap=0)\n",
    "texts = text_splitter.split_documents(documents)\n",
    "embeddings = OpenAIEmbeddings(openai_api_key=OPENAI_API_KEY)\n",
    "docsearch = FAISS.from_documents(texts, embeddings)"
   ]
  },
  {
   "cell_type": "code",
   "execution_count": 71,
   "metadata": {},
   "outputs": [
    {
     "ename": "AttributeError",
     "evalue": "module 'pinecone' has no attribute 'GRPCIndex'",
     "output_type": "error",
     "traceback": [
      "\u001b[1;31m---------------------------------------------------------------------------\u001b[0m",
      "\u001b[1;31mAttributeError\u001b[0m                            Traceback (most recent call last)",
      "\u001b[1;32mc:\\Workspace\\CME_Internship\\git_llm\\Embeddings.ipynb Cell 3\u001b[0m in \u001b[0;36m<cell line: 4>\u001b[1;34m()\u001b[0m\n\u001b[0;32m      <a href='vscode-notebook-cell:/c%3A/Workspace/CME_Internship/git_llm/Embeddings.ipynb#X12sZmlsZQ%3D%3D?line=0'>1</a>\u001b[0m \u001b[39mfrom\u001b[39;00m \u001b[39muuid\u001b[39;00m \u001b[39mimport\u001b[39;00m uuid4\n\u001b[0;32m      <a href='vscode-notebook-cell:/c%3A/Workspace/CME_Internship/git_llm/Embeddings.ipynb#X12sZmlsZQ%3D%3D?line=1'>2</a>\u001b[0m \u001b[39mimport\u001b[39;00m \u001b[39mpinecone\u001b[39;00m\n\u001b[1;32m----> <a href='vscode-notebook-cell:/c%3A/Workspace/CME_Internship/git_llm/Embeddings.ipynb#X12sZmlsZQ%3D%3D?line=3'>4</a>\u001b[0m index \u001b[39m=\u001b[39m pinecone\u001b[39m.\u001b[39;49mGRPCIndex(\u001b[39m\"\u001b[39m\u001b[39mopenai-chatpt\u001b[39m\u001b[39m\"\u001b[39m)\n\u001b[0;32m      <a href='vscode-notebook-cell:/c%3A/Workspace/CME_Internship/git_llm/Embeddings.ipynb#X12sZmlsZQ%3D%3D?line=5'>6</a>\u001b[0m \u001b[39mprint\u001b[39m(\u001b[39mtype\u001b[39m(texts))\n\u001b[0;32m      <a href='vscode-notebook-cell:/c%3A/Workspace/CME_Internship/git_llm/Embeddings.ipynb#X12sZmlsZQ%3D%3D?line=6'>7</a>\u001b[0m batch_limit \u001b[39m=\u001b[39m \u001b[39m100\u001b[39m\n",
      "\u001b[1;31mAttributeError\u001b[0m: module 'pinecone' has no attribute 'GRPCIndex'"
     ]
    }
   ],
   "source": [
    "from uuid import uuid4\n",
    "import pinecone\n",
    "\n",
    "pinecone.\n",
    "\n",
    "index = pinecone.GRPCIndex(\"openai-chatpt\")\n",
    "\n",
    "print(type(texts))\n",
    "batch_limit = 100"
   ]
  },
  {
   "cell_type": "code",
   "execution_count": null,
   "metadata": {},
   "outputs": [],
   "source": [
    "if len(texts) >= batch_limit:\n",
    "        ids = [str(uuid4()) for _ in range(len(texts))]\n",
    "        embeds = embeddings.embed_documents(texts)\n",
    "        index.upsert(vectors=zip(ids, embeds, metadatas))\n",
    "        texts = []\n",
    "        metadatas = []"
   ]
  },
  {
   "cell_type": "code",
   "execution_count": 72,
   "metadata": {},
   "outputs": [
    {
     "name": "stderr",
     "output_type": "stream",
     "text": [
      "Retrying langchain.embeddings.openai.embed_with_retry.<locals>._embed_with_retry in 4.0 seconds as it raised APIConnectionError: Error communicating with OpenAI: ('Connection aborted.', ConnectionResetError(10054, 'An existing connection was forcibly closed by the remote host', None, 10054, None)).\n"
     ]
    },
    {
     "name": "stdout",
     "output_type": "stream",
     "text": [
      "<class 'langchain.vectorstores.faiss.FAISS'>\n"
     ]
    }
   ],
   "source": [
    "embeddings = OpenAIEmbeddings(openai_api_key=OPENAI_API_KEY)\n",
    "docsearch = FAISS.from_documents(texts, embeddings)\n",
    "# llm = OpenAI(openai_api_key=OPENAI_API_KEY)\n",
    "# qa = RetrievalQA.from_chain_type(llm=llm, chain_type=\"stuff\", retriever=docsearch.as_retriever())\n",
    "# query = \"Tell me about yourself?\"\n",
    "\n",
    "# qa.run(query)"
   ]
  },
  {
   "cell_type": "code",
   "execution_count": 63,
   "metadata": {},
   "outputs": [
    {
     "ename": "AttributeError",
     "evalue": "'RetrievalQA' object has no attribute 'get_embeddings'",
     "output_type": "error",
     "traceback": [
      "\u001b[1;31m---------------------------------------------------------------------------\u001b[0m",
      "\u001b[1;31mAttributeError\u001b[0m                            Traceback (most recent call last)",
      "\u001b[1;32mc:\\Workspace\\CME_Internship\\git_llm\\Embeddings.ipynb Cell 4\u001b[0m in \u001b[0;36m<cell line: 7>\u001b[1;34m()\u001b[0m\n\u001b[0;32m      <a href='vscode-notebook-cell:/c%3A/Workspace/CME_Internship/git_llm/Embeddings.ipynb#W3sZmlsZQ%3D%3D?line=3'>4</a>\u001b[0m std_key \u001b[39m=\u001b[39m \u001b[39m\"\u001b[39m\u001b[39m681591b9-096b-4da3-8df2-9de5f89fba34\u001b[39m\u001b[39m\"\u001b[39m\n\u001b[0;32m      <a href='vscode-notebook-cell:/c%3A/Workspace/CME_Internship/git_llm/Embeddings.ipynb#W3sZmlsZQ%3D%3D?line=4'>5</a>\u001b[0m pinecone\u001b[39m.\u001b[39minit(api_key\u001b[39m=\u001b[39mstd_key)\n\u001b[1;32m----> <a href='vscode-notebook-cell:/c%3A/Workspace/CME_Internship/git_llm/Embeddings.ipynb#W3sZmlsZQ%3D%3D?line=6'>7</a>\u001b[0m all_embeddings \u001b[39m=\u001b[39m np\u001b[39m.\u001b[39marray(qa\u001b[39m.\u001b[39;49mget_embeddings())\n\u001b[0;32m      <a href='vscode-notebook-cell:/c%3A/Workspace/CME_Internship/git_llm/Embeddings.ipynb#W3sZmlsZQ%3D%3D?line=8'>9</a>\u001b[0m normalized_vectors \u001b[39m=\u001b[39m all_embeddings \u001b[39m/\u001b[39m np\u001b[39m.\u001b[39mlinalg\u001b[39m.\u001b[39mnorm(all_embeddings, axis\u001b[39m=\u001b[39m\u001b[39m1\u001b[39m, keepdims\u001b[39m=\u001b[39m\u001b[39mTrue\u001b[39;00m)\n\u001b[0;32m     <a href='vscode-notebook-cell:/c%3A/Workspace/CME_Internship/git_llm/Embeddings.ipynb#W3sZmlsZQ%3D%3D?line=10'>11</a>\u001b[0m pinecone_index \u001b[39m=\u001b[39m pinecone\u001b[39m.\u001b[39mIndex(index_name\u001b[39m=\u001b[39m\u001b[39m\"\u001b[39m\u001b[39mopenai-chatpt\u001b[39m\u001b[39m\"\u001b[39m)\n",
      "\u001b[1;31mAttributeError\u001b[0m: 'RetrievalQA' object has no attribute 'get_embeddings'"
     ]
    }
   ],
   "source": [
    "# import pinecone\n",
    "# import numpy as np\n",
    "\n",
    "# std_key = \"681591b9-096b-4da3-8df2-9de5f89fba34\"\n",
    "# pinecone.init(api_key=std_key)\n",
    "\n",
    "# all_embeddings = np.array(embeddings.get_embeddings())\n",
    "\n",
    "# normalized_vectors = all_embeddings / np.linalg.norm(all_embeddings, axis=1, keepdims=True)\n",
    "\n",
    "# pinecone_index = pinecone.Index(index_name=\"openai-chatpt\")\n",
    "# pinecone_index.upsert(ids=[\"159632\"], vectors=normalized_vectors)\n",
    "\n"
   ]
  },
  {
   "cell_type": "code",
   "execution_count": null,
   "metadata": {},
   "outputs": [],
   "source": [
    "import pinecone\n",
    "std_key = \"681591b9-096b-4da3-8df2-9de5f89fba34\"\n",
    "\n",
    "index_name = 'langchain-retrieval-augmentation'\n",
    "pinecone.init(api_key=std_key)\n",
    "\n",
    "if index_name not in pinecone.list_indexes():\n",
    "    pinecone.create_index(name=index_name, metric='cosine')  \n"
   ]
  },
  {
   "cell_type": "code",
   "execution_count": null,
   "metadata": {},
   "outputs": [],
   "source": [
    "from tqdm.auto import tqdm\n",
    "from uuid import uuid4\n",
    "\n",
    "index = pinecone.GRPCIndex(index_name)\n",
    "batch_limit = 100\n",
    "\n",
    "texts_array = []\n",
    "metadatas = []\n",
    "\n",
    "for i, record in enumerate(tqdm(documents)):\n",
    "\n",
    "    record_metadatas = [{\"chunk\": j, \"text\": text} for j, text in enumerate(text_splitter)]\n",
    "   \n",
    "    texts_array = [].extend(texts)\n",
    "    metadatas.extend(record_metadatas)\n",
    "    \n",
    "    texts.extend(text_splitter)\n",
    "    metadatas.extend(record_metadatas)\n",
    "\n",
    "    if len(texts_array) >= batch_limit:\n",
    "        ids = [str(uuid4()) for _ in range(len(texts_array))]\n",
    "        embeds = embeddings.embed_documents(texts_array)\n",
    "        index.upsert(vectors=zip(ids, embeds, metadatas))\n",
    "        texts = []\n",
    "        metadatas = []\n",
    "\n",
    "if len(texts) > 0:\n",
    "    ids = [str(uuid4()) for _ in range(len(texts))]\n",
    "    embeds = embeddings.embed_documents(texts)\n",
    "    index.upsert(vectors=zip(ids, embeds, metadatas))\n"
   ]
  }
 ],
 "metadata": {
  "kernelspec": {
   "display_name": "cme_project",
   "language": "python",
   "name": "python3"
  },
  "language_info": {
   "codemirror_mode": {
    "name": "ipython",
    "version": 3
   },
   "file_extension": ".py",
   "mimetype": "text/x-python",
   "name": "python",
   "nbconvert_exporter": "python",
   "pygments_lexer": "ipython3",
   "version": "3.8.16"
  },
  "orig_nbformat": 4
 },
 "nbformat": 4,
 "nbformat_minor": 2
}
