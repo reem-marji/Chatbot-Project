{
 "cells": [
  {
   "cell_type": "code",
   "execution_count": 1,
   "metadata": {},
   "outputs": [],
   "source": [
    "import requests\n",
    "import json\n",
    "from bs4 import BeautifulSoup\n",
    "from langchain.memory import ConversationBufferMemory"
   ]
  },
  {
   "cell_type": "code",
   "execution_count": 2,
   "metadata": {},
   "outputs": [],
   "source": [
    "url = 'https://online.lau.edu.lb/faq/'\n",
    "\n",
    "response = requests.get(url)\n",
    "soup = BeautifulSoup(response.text, 'html.parser')\n",
    "\n",
    " \n",
    "questions = soup.find_all(class_=\"tux-c-accordion__trigger\")\n",
    "answers = soup.find_all(class_=\"tux-c-accordion__panel\")\n",
    "\n",
    "# print(len(elements))\n",
    "# print(len(questions))\n"
   ]
  },
  {
   "cell_type": "code",
   "execution_count": null,
   "metadata": {},
   "outputs": [],
   "source": [
    "memory = ConversationBufferMemory()\n",
    "\n",
    "for item1, item2 in zip(questions, answers):\n",
    "    question = item1.text.strip()\n",
    "    answer = item2.find('p').text\n",
    "    \n",
    "    memory.chat_memory.add_user_message(question)\n",
    "    memory.chat_memory.add_ai_message(answer)"
   ]
  },
  {
   "cell_type": "code",
   "execution_count": 5,
   "metadata": {},
   "outputs": [],
   "source": [
    "faq_data = []\n",
    "\n",
    "for item1, item2 in zip(questions, answers):\n",
    "    question = item1.text.strip()\n",
    "    answer = item2.find('p').text\n",
    "\n",
    "    faq_item = {\n",
    "        \"prompt\": question,\n",
    "        \"completion\": answer\n",
    "    }\n",
    "\n",
    "    faq_data.append(faq_item)\n",
    "\n",
    "#print(faq_data[1])"
   ]
  },
  {
   "cell_type": "code",
   "execution_count": 6,
   "metadata": {},
   "outputs": [],
   "source": [
    "with open(\"faq_data.json\", \"w\") as json_file:\n",
    "\n",
    "    json.dump(faq_data, json_file, indent=4)"
   ]
  }
 ],
 "metadata": {
  "kernelspec": {
   "display_name": "cme_project",
   "language": "python",
   "name": "python3"
  },
  "language_info": {
   "codemirror_mode": {
    "name": "ipython",
    "version": 3
   },
   "file_extension": ".py",
   "mimetype": "text/x-python",
   "name": "python",
   "nbconvert_exporter": "python",
   "pygments_lexer": "ipython3",
   "version": "3.8.16"
  },
  "orig_nbformat": 4
 },
 "nbformat": 4,
 "nbformat_minor": 2
}
